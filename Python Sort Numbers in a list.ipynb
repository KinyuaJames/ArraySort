{
 "cells": [
  {
   "attachments": {},
   "cell_type": "markdown",
   "metadata": {},
   "source": [
    "#Sorting out numbers in an array\n",
    "\n"
   ]
  },
  {
   "cell_type": "code",
   "execution_count": null,
   "metadata": {},
   "outputs": [],
   "source": [
    "L = [1,-2,15,13,5,-35,20,3,7,-50]"
   ]
  },
  {
   "attachments": {},
   "cell_type": "markdown",
   "metadata": {},
   "source": [
    "Using the sort function"
   ]
  },
  {
   "cell_type": "code",
   "execution_count": null,
   "metadata": {},
   "outputs": [],
   "source": [
    "A = L.copy()\n",
    "A.sort()\n",
    "print(A)\n",
    "# print(L)"
   ]
  },
  {
   "attachments": {},
   "cell_type": "markdown",
   "metadata": {},
   "source": [
    "Getting the minimum value"
   ]
  },
  {
   "cell_type": "code",
   "execution_count": null,
   "metadata": {},
   "outputs": [],
   "source": [
    "firstValueInIndex = L[0]\n",
    "index = 0\n",
    "count = 0\n",
    "for  i in L:\n",
    "    if i < firstValueInIndex:\n",
    "        minValue = i\n",
    "        index = count\n",
    "    count += 1\n",
    "L[index] = L[0]\n",
    "L[0] = minValue\n",
    "print(minValue, index)\n",
    "print(L)\n",
    "\n",
    "    "
   ]
  },
  {
   "attachments": {},
   "cell_type": "markdown",
   "metadata": {},
   "source": [
    "\n",
    "Interswitching smallest value with the first value \n"
   ]
  },
  {
   "attachments": {},
   "cell_type": "markdown",
   "metadata": {},
   "source": [
    "Method 1"
   ]
  },
  {
   "cell_type": "code",
   "execution_count": null,
   "metadata": {},
   "outputs": [],
   "source": [
    "\n",
    "\n",
    "for j in range (len(L)):\n",
    "    print('\\n','iteration')\n",
    "    index = j\n",
    "    count = j\n",
    "    minValue = L[j]\n",
    "\n",
    "    for  i in range (j,len(L)):# j increments following the previous loop i.e 0,1,2..:1,2,3...:2,3,4.. \n",
    "        ValueToCompare = L[i]\n",
    "        if ValueToCompare < minValue:\n",
    "            minValue = ValueToCompare\n",
    "            index = count\n",
    "        count += 1\n",
    "        print(L)\n",
    "    tempStore = L[j]\n",
    "    L[j] = minValue\n",
    "    L[index] = tempStore\n",
    "print('\\n','final array','\\n',L)\n",
    "\n",
    "# with the output, you can track as each of the value is replaced in the array"
   ]
  },
  {
   "attachments": {},
   "cell_type": "markdown",
   "metadata": {},
   "source": [
    "Method 2:\n"
   ]
  },
  {
   "cell_type": "code",
   "execution_count": null,
   "metadata": {},
   "outputs": [],
   "source": [
    "L = [1,-2,13,7,-50]\n",
    "\n",
    "for i in range(len(L)):\n",
    "    print('another iteration')\n",
    "    Value =  L[i]\n",
    "    count = i\n",
    "    index = i\n",
    "    for j in range(i, len(L)):\n",
    "        # print(Value,'compared with' ,L[j])\n",
    "        if L[j] < Value:\n",
    "            Value =L[j]\n",
    "            index = count\n",
    "            tempVal = L[j] #save the min value to a temporary variable\n",
    "            L[j] = L[i] #replace the first value of index to the index of min value, <N/B> THIS REPLACES THE MIN VALUE OF ALL PRECEDING MINIMUM VALUE TO THEIR PRECEDING INDEX\n",
    "            L[i]= tempVal #replace the first index with the min value\n",
    "            \n",
    "        count += 1\n",
    "        print(L)\n",
    "    # with the output, you can track as each of the value is replaced in the array\n",
    "\n",
    "print('\\n','final array','\\n',L)"
   ]
  },
  {
   "attachments": {},
   "cell_type": "markdown",
   "metadata": {},
   "source": [
    "Using Functions"
   ]
  },
  {
   "attachments": {},
   "cell_type": "markdown",
   "metadata": {},
   "source": [
    "Sorting out numbers in a list using own defined functions\n",
    "Method 1:"
   ]
  },
  {
   "cell_type": "code",
   "execution_count": null,
   "metadata": {},
   "outputs": [],
   "source": [
    "def checkIfNumeric(value):\n",
    "    if (isinstance(value, (float, int))):\n",
    "        return True\n",
    "    else:\n",
    "        # print('Make sure value is integer')\n",
    "        return False \n"
   ]
  },
  {
   "cell_type": "code",
   "execution_count": null,
   "metadata": {},
   "outputs": [],
   "source": [
    "def returnMin(passedList, startAt):\n",
    "    minimumValue = passedList[startAt]\n",
    "    index = startAt\n",
    "    # print('STARTING AT index',index)\n",
    "    count =startAt\n",
    "    returnMinn = True\n",
    "    for i in range(startAt, len(passedList)):\n",
    "        \n",
    "        if not (checkIfNumeric(passedList [i])):\n",
    "            returnMinn = False\n",
    "            index = count\n",
    "            print(passedList [i], 'at index', index, 'not an integer/float')\n",
    "            # break\n",
    "        else:\n",
    "            if passedList[i] < minimumValue:\n",
    "                minimumValue = passedList[i]\n",
    "                index = count\n",
    "        count += 1\n",
    "    \n",
    "    # return the index of the minimum value otherwise return false as a state\n",
    "    if returnMinn:\n",
    "        # print('min value is' ,minimumValue, index)\n",
    "        return index\n",
    "    else:\n",
    "        return returnMinn"
   ]
  },
  {
   "cell_type": "code",
   "execution_count": null,
   "metadata": {},
   "outputs": [],
   "source": [
    "def swapValues(list, indextoswap, indextoswapto):\n",
    "    tempVal = list [indextoswapto]\n",
    "    list[indextoswapto] = list[indextoswap]\n",
    "    list[indextoswap] = tempVal"
   ]
  },
  {
   "cell_type": "code",
   "execution_count": null,
   "metadata": {},
   "outputs": [],
   "source": [
    "def sortList(list):\n",
    "    for i in range(len(list)):\n",
    "        x = returnMin(list, i)\n",
    "        # check if a false state was returned , if so , break execution since the list contains non intergers\n",
    "        if x == False:\n",
    "            break\n",
    "        else:\n",
    "            swapValues(list, x, i)\n",
    "    return list"
   ]
  },
  {
   "cell_type": "code",
   "execution_count": null,
   "metadata": {},
   "outputs": [],
   "source": [
    "\n",
    "# the commented code showcases implementation of each function, uncomment to better understand a function functionality\n",
    "\n",
    "list = [1,3,-13,'k',12,'o']\n",
    "# >>>>>>>>>>>the return min function<<<<<<<<<<<<<<<<<<<<<<<<<<<<<<\n",
    "# minValue, index =  returnMin(list,4)\n",
    "# print(minValue, index)\n",
    "\n",
    "# >>>>>>>this for loop showcases the sortList function<<<<<<<<<<<<\n",
    "# for i in range(len(list)):\n",
    "#     minValue, indexx = returnMin(list, i)\n",
    "#     swapValues(list, indexx, i)\n",
    "\n",
    "# >>>>>>>>>>>>>>>>>>>>the swapValues function<<<<<<<<<<<<<<<<<<<<<\n",
    "# swapValues(list, index, 4)\n",
    "# print(list)\n",
    "\n",
    "sortList(list)\n",
    "\n",
    "# >>>>>>>>>>>>> comment out the print('starting index 'and 'min value is') on the returnMin function to remove the print output<<<<<<<<<<<<<"
   ]
  },
  {
   "attachments": {},
   "cell_type": "markdown",
   "metadata": {},
   "source": [
    "Method 2:\n",
    "Sorting out with the state being saved at checking if the list is of correct data type"
   ]
  },
  {
   "cell_type": "code",
   "execution_count": null,
   "metadata": {},
   "outputs": [],
   "source": [
    "def checkifListNumeric(L):\n",
    "    index = 0\n",
    "    count = 0\n",
    "    state = True\n",
    "    for i in L:\n",
    "        if (isinstance(i,(float,int))):\n",
    "            index = count\n",
    "        else:\n",
    "            index = count\n",
    "            print (i,'at index', index, 'not an integer')\n",
    "            state = False\n",
    "        count += 1\n",
    "    if state:\n",
    "        print('all are integers')\n",
    "        return True\n",
    "    else:\n",
    "        return False"
   ]
  },
  {
   "cell_type": "code",
   "execution_count": null,
   "metadata": {},
   "outputs": [],
   "source": [
    "def returnMin2(passedList, startAt):\n",
    "    minimumValue = passedList[startAt]\n",
    "    index = startAt\n",
    "    for i in range(startAt, len(passedList)):\n",
    "        if passedList[i] < minimumValue:\n",
    "            minimumValue = passedList[i]\n",
    "            index = i\n",
    "    return index"
   ]
  },
  {
   "cell_type": "code",
   "execution_count": null,
   "metadata": {},
   "outputs": [],
   "source": [
    "def sortList2(list):\n",
    "    if checkifListNumeric(list):\n",
    "        for i in range(len(list)):\n",
    "            x = returnMin2(list, i)\n",
    "            swapValues(list, x, i) #this function remains unchanged\n",
    "        return list\n",
    "    else:\n",
    "        return list,'Make sure the list is of integers/float type'"
   ]
  },
  {
   "cell_type": "code",
   "execution_count": null,
   "metadata": {},
   "outputs": [],
   "source": [
    "\n",
    "\n",
    "list = [1,3,5,-13,4,-50,'o']\n",
    "sortList2(list)"
   ]
  },
  {
   "attachments": {},
   "cell_type": "markdown",
   "metadata": {},
   "source": [
    "Method 3:\n",
    "Using the While Loop to Sort"
   ]
  },
  {
   "cell_type": "code",
   "execution_count": null,
   "metadata": {},
   "outputs": [],
   "source": [
    "L = [1,-2,15,13,5,-35,20,3,7,-50]"
   ]
  },
  {
   "cell_type": "code",
   "execution_count": null,
   "metadata": {},
   "outputs": [],
   "source": [
    "def getMin(L):\n",
    "    n = len(L)\n",
    "    counter = 0\n",
    "    idx = 0\n",
    "    minVal = L[0]\n",
    "    while(counter < n):\n",
    "        v = L[counter]\n",
    "        if (v < minVal):\n",
    "            minVal = v\n",
    "            idx = counter\n",
    "        counter +=  1\n",
    "    return minVal,idx"
   ]
  },
  {
   "cell_type": "code",
   "execution_count": null,
   "metadata": {},
   "outputs": [],
   "source": [
    "def sortItems(L):\n",
    "    List =  L.copy()\n",
    "    n = len(List)\n",
    "    S = []\n",
    "    count = 0\n",
    "    while (count < n):\n",
    "        m, k = getMin(List)\n",
    "        S.append(m)\n",
    "        del List[k]\n",
    "        n -= 1\n",
    "    List = S \n",
    "    return List\n"
   ]
  },
  {
   "cell_type": "code",
   "execution_count": null,
   "metadata": {},
   "outputs": [],
   "source": [
    "sortItems(L)"
   ]
  },
  {
   "attachments": {},
   "cell_type": "markdown",
   "metadata": {},
   "source": [
    "Extra:\n",
    "Checking binary search process time vs normal search of iterating through an list"
   ]
  },
  {
   "cell_type": "code",
   "execution_count": null,
   "metadata": {},
   "outputs": [],
   "source": [
    "import numpy as np\n",
    "# np.arange?\n",
    "list = np.arange(5,10000,2)\n",
    "print(list)\n",
    "def binary_search(list, toFind):\n",
    "    start = 0\n",
    "    middle = 0\n",
    "    end = len(list)\n",
    "    while start<end:\n",
    "        middle = (start + end)//2\n",
    "        \n",
    "        # print(list[start:end], middle, '\\n')\n",
    "        if toFind == list[middle]:\n",
    "            return 'binary search',toFind, middle\n",
    "        if toFind < list[middle]:\n",
    "            end = middle -1\n",
    "        else:\n",
    "            start = middle + 1\n",
    "             \n",
    "    return -1\n",
    "\n",
    "def normal_search(list, toFind):\n",
    "    idx = 0\n",
    "    # index = 0\n",
    "    for i in list:\n",
    "        if i == toFind:\n",
    "            index = idx\n",
    "            return 'normal search ',i, index\n",
    "        idx += 1\n",
    "    \n",
    "# print('time for binary') \n",
    "# %timeit binary_search(list,5)\n",
    "# print('normal')    \n",
    "# %timeit normal_search(list,5)\n",
    "\n",
    "    \n",
    "    \n",
    "    \n",
    "    "
   ]
  },
  {
   "cell_type": "code",
   "execution_count": null,
   "metadata": {},
   "outputs": [],
   "source": [
    "%timeit normal_search(list,101)"
   ]
  },
  {
   "cell_type": "code",
   "execution_count": null,
   "metadata": {},
   "outputs": [],
   "source": [
    "%timeit binary_search(list, 101)"
   ]
  }
 ],
 "metadata": {
  "kernelspec": {
   "display_name": "base",
   "language": "python",
   "name": "python3"
  },
  "language_info": {
   "codemirror_mode": {
    "name": "ipython",
    "version": 3
   },
   "file_extension": ".py",
   "mimetype": "text/x-python",
   "name": "python",
   "nbconvert_exporter": "python",
   "pygments_lexer": "ipython3",
   "version": "3.9.7"
  },
  "orig_nbformat": 4,
  "vscode": {
   "interpreter": {
    "hash": "ad2bdc8ecc057115af97d19610ffacc2b4e99fae6737bb82f5d7fb13d2f2c186"
   }
  }
 },
 "nbformat": 4,
 "nbformat_minor": 2
}
